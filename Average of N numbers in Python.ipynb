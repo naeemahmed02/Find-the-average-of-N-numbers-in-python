{
 "cells": [
  {
   "cell_type": "markdown",
   "id": "bd70b0e1",
   "metadata": {},
   "source": [
    "# Average of N numbers in Python"
   ]
  },
  {
   "cell_type": "code",
   "execution_count": 1,
   "id": "3048f20a",
   "metadata": {},
   "outputs": [
    {
     "name": "stdout",
     "output_type": "stream",
     "text": [
      "How many numbers ? 4\n",
      "Enter any numbers 12\n",
      "Enter any numbers 54\n",
      "Enter any numbers 34\n",
      "Enter any numbers 23\n",
      "The average is  30.75\n"
     ]
    }
   ],
   "source": [
    "num = int(input(\"How many numbers ? \"))\n",
    "total_sum = 0\n",
    "for i in range(num):\n",
    "    number = float(input(\"Enter any numbers \"))\n",
    "    total_sum += number\n",
    "avg = total_sum / num\n",
    "print(\"The average is \", avg)\n"
   ]
  },
  {
   "cell_type": "code",
   "execution_count": null,
   "id": "8d0cce35",
   "metadata": {},
   "outputs": [],
   "source": []
  },
  {
   "cell_type": "code",
   "execution_count": null,
   "id": "94adc4dd",
   "metadata": {},
   "outputs": [],
   "source": []
  }
 ],
 "metadata": {
  "kernelspec": {
   "display_name": "Python 3",
   "language": "python",
   "name": "python3"
  },
  "language_info": {
   "codemirror_mode": {
    "name": "ipython",
    "version": 3
   },
   "file_extension": ".py",
   "mimetype": "text/x-python",
   "name": "python",
   "nbconvert_exporter": "python",
   "pygments_lexer": "ipython3",
   "version": "3.8.10"
  }
 },
 "nbformat": 4,
 "nbformat_minor": 5
}
